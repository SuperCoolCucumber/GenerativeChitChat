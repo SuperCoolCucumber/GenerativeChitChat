{
 "cells": [
  {
   "cell_type": "code",
   "execution_count": 2,
   "metadata": {},
   "outputs": [],
   "source": [
    "import math\n",
    "import numpy as np\n",
    "import pandas as pd\n",
    "\n",
    "import random\n",
    "import json\n",
    "import torch\n",
    "from torch.utils.data import Dataset, DataLoader\n",
    "\n",
    "from tqdm import tqdm\n",
    "\n",
    "from matplotlib import pyplot as plt\n",
    "\n",
    "import youtokentome as yttm"
   ]
  },
  {
   "cell_type": "code",
   "execution_count": 3,
   "metadata": {},
   "outputs": [],
   "source": [
    "data = open('data.jsonl').read()\n",
    "data = data.split('\\n')"
   ]
  },
  {
   "cell_type": "code",
   "execution_count": 4,
   "metadata": {},
   "outputs": [],
   "source": [
    "with open('for_bpe.txt', 'w', encoding='utf-8') as f:\n",
    "    for line in data:\n",
    "        f.write(line + '\\n')"
   ]
  },
  {
   "cell_type": "code",
   "execution_count": 5,
   "metadata": {},
   "outputs": [],
   "source": [
    "vocab_size = 30_000\n",
    "model_path = 'pretrained_bpe_lm.model'"
   ]
  },
  {
   "cell_type": "code",
   "execution_count": 6,
   "metadata": {},
   "outputs": [
    {
     "name": "stderr",
     "output_type": "stream",
     "text": [
      "Training parameters\n",
      "  input: for_bpe.txt\n",
      "  model: pretrained_bpe_lm.model\n",
      "  vocab_size: 30000\n",
      "  n_threads: 8\n",
      "  character_coverage: 1\n",
      "  pad: 0\n",
      "  unk: 1\n",
      "  bos: 2\n",
      "  eos: 3\n",
      "\n",
      "reading file...\n",
      "learning bpe...\n",
      "number of unique characters in the training data: 714\n",
      "number of deleted characters: 0\n",
      "number of unique characters left: 714\n",
      "id: 1000=995+922              freq: 323595      subword: скусство=скус+ство\n",
      "id: 2000=869+834              freq: 40345       subword: еньше=ень+ше\n",
      "id: 3000=61+1056              freq: 18486       subword: щение=щ+ение\n",
      "id: 4000=876+902              freq: 11501       subword: ▁тему=▁те+му\n",
      "id: 5000=989+15               freq: 8012        subword: гу,=гу+,\n",
      "id: 6000=986+796              freq: 6043        subword: вать?\",=вать+?\",\n",
      "id: 7000=895+9                freq: 4810        subword: ▁лит=▁ли+т\n",
      "id: 8000=830+964              freq: 3953        subword: ▁лети=▁л+ети\n",
      "id: 9000=3074+1821            freq: 3312        subword: ▁специальные=▁специа+льные\n",
      "id: 10000=851+907             freq: 2856        subword: ▁доче=▁до+че\n",
      "id: 11000=1377+902            freq: 2493        subword: ▁имму=▁им+му\n",
      "id: 12000=2751+1222           freq: 2211        subword: ▁использовани=▁исполь+зовани\n",
      "id: 13000=884+17              freq: 1974        subword: пал=па+л\n",
      "id: 14000=1784+1047           freq: 1780        subword: ▁грамот=▁гра+мот\n",
      "id: 15000=6074+896            freq: 1611        subword: ▁помидоры=▁помидо+ры\n",
      "id: 16000=827+920             freq: 1468        subword: ▁проме=▁про+ме\n",
      "id: 17000=1661+1193           freq: 1353        subword: ▁ответят=▁ответ+ят\n",
      "id: 18000=1303+838            freq: 1241        subword: ▁рассе=▁рас+се\n",
      "id: 19000=1687+976            freq: 1154        subword: ▁зависть=▁зави+сть\n",
      "id: 20000=1694+4209           freq: 1078        subword: ▁рыбок=▁ры+бок\n",
      "id: 21000=895+59              freq: 1006        subword: ▁лиц=▁ли+ц\n",
      "id: 22000=3295+63             freq: 948         subword: ▁130=▁13+0\n",
      "id: 23000=4545+15             freq: 889         subword: ▁скучно,=▁скучно+,\n",
      "id: 24000=2524+1426           freq: 837         subword: таетесь=тает+есь\n",
      "id: 25000=1126+33             freq: 792         subword: ▁миг=▁ми+г\n",
      "id: 26000=1110+840            freq: 748         subword: ▁делами=▁дела+ми\n",
      "id: 27000=827+735             freq: 711         subword: ▁проро=▁про+ро\n",
      "id: 28000=1607+797            freq: 675         subword: ▁относя=▁отно+ся\n",
      "id: 29000=2037+18             freq: 644         subword: ▁арм=▁ар+м\n",
      "model saved to: pretrained_bpe_lm.model\n"
     ]
    },
    {
     "data": {
      "text/plain": [
       "<youtokentome.youtokentome.BPE at 0x7fc61932bbe0>"
      ]
     },
     "execution_count": 6,
     "metadata": {},
     "output_type": "execute_result"
    }
   ],
   "source": [
    "yttm.BPE.train(data='for_bpe.txt', vocab_size=vocab_size, model=model_path)"
   ]
  },
  {
   "cell_type": "code",
   "execution_count": 7,
   "metadata": {},
   "outputs": [
    {
     "data": {
      "text/plain": [
       "['<PAD>',\n",
       " '<UNK>',\n",
       " '<BOS>',\n",
       " '<EOS>',\n",
       " '▁',\n",
       " 'о',\n",
       " '\"',\n",
       " 'е',\n",
       " 'а',\n",
       " 'т',\n",
       " 'и',\n",
       " 'н',\n",
       " 'с',\n",
       " 'р',\n",
       " 'в']"
      ]
     },
     "execution_count": 7,
     "metadata": {},
     "output_type": "execute_result"
    }
   ],
   "source": [
    "tokenizer = yttm.BPE(model=model_path)\n",
    "\n",
    "tokenizer.vocab()[:15]"
   ]
  },
  {
   "cell_type": "code",
   "execution_count": 8,
   "metadata": {},
   "outputs": [
    {
     "data": {
      "text/plain": [
       "'{\"question\": \"долго ли идут деньги с яндексденег на карту visa?\", \"category\": \"Бизнес, Финансы\", \"responses\": [\"нет. прорыв 35 ;)\"]}'"
      ]
     },
     "execution_count": 8,
     "metadata": {},
     "output_type": "execute_result"
    }
   ],
   "source": [
    "data[0]"
   ]
  },
  {
   "cell_type": "code",
   "execution_count": null,
   "metadata": {},
   "outputs": [],
   "source": [
    "tokenized = []\n",
    "\n",
    "batch_size = 256\n",
    "\n",
    "for i_batch in tqdm(range(math.ceil(len(questions.question) / batch_size))):\n",
    "    \n",
    "    tokenized.extend(tokenizer.encode(\n",
    "        list(questions.question[i_batch*batch_size:(i_batch+1)*batch_size]), bos=True, eos=False))\n",
    "\n"
   ]
  },
  {
   "cell_type": "code",
   "execution_count": null,
   "metadata": {},
   "outputs": [],
   "source": []
  }
 ],
 "metadata": {
  "kernelspec": {
   "display_name": "Python 3.10.8 64-bit",
   "language": "python",
   "name": "python3"
  },
  "language_info": {
   "codemirror_mode": {
    "name": "ipython",
    "version": 3
   },
   "file_extension": ".py",
   "mimetype": "text/x-python",
   "name": "python",
   "nbconvert_exporter": "python",
   "pygments_lexer": "ipython3",
   "version": "3.10.8"
  },
  "orig_nbformat": 4,
  "vscode": {
   "interpreter": {
    "hash": "949777d72b0d2535278d3dc13498b2535136f6dfe0678499012e853ee9abcab1"
   }
  }
 },
 "nbformat": 4,
 "nbformat_minor": 2
}
